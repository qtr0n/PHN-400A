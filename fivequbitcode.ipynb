{
 "cells": [
  {
   "cell_type": "code",
   "execution_count": 1,
   "id": "847fe610-c3fb-4bf7-8ad6-2a068e2b17ce",
   "metadata": {},
   "outputs": [
    {
     "name": "stderr",
     "output_type": "stream",
     "text": [
      "<frozen importlib._bootstrap>:219: RuntimeWarning: scipy._lib.messagestream.MessageStream size changed, may indicate binary incompatibility. Expected 56 from C header, got 64 from PyObject\n"
     ]
    }
   ],
   "source": [
    "import pandas as pd\n",
    "from qiskit import QuantumCircuit, Aer, execute, QuantumRegister, ClassicalRegister\n",
    "\n",
    "def ket_0(U,qubits):\n",
    "    \n",
    "    five_qubits = QuantumRegister(5)\n",
    "    logical_ket0_vector = [1/4, 0, 0, 1/4, 0, -(1/4), 1/4, 0, 0, -(1/4), -(1/4), 0, 1/4, 0, 0, -(1/4), 0, 1/4, -(1/4), 0, -(1/4), 0, 0, -(1/4), 1/4, 0, 0, -(1/4), 0, -(1/4), -(1/4), 0]\n",
    "    temp_U = QuantumCircuit(five_qubits)\n",
    "    temp_U.initialize(logical_ket0_vector, range(5))\n",
    "    U.append(temp_U.to_instruction(label=\"\\\\ket{0}\\\\textsubscript{\\\\textit{L}}\"),qubits)\n",
    "\n",
    "\n",
    "def ket_1(U,qubits):\n",
    "    \n",
    "    five_qubits = QuantumRegister(5)\n",
    "    logical_ket1_vector = [0, -(1/4), -(1/4), 0, -(1/4), 0, 0, 1/4, -(1/4), 0, 0, -(1/4), 0, -(1/4), 1/4, 0, -(1/4), 0, 0, 1/4, 0, -(1/4), -(1/4), 0, 0, 1/4, -(1/4), 0, 1/4, 0, 0, 1/4]\n",
    "    temp_U = QuantumCircuit(five_qubits)\n",
    "    temp_U.initialize(logical_ket1_vector, range(5))\n",
    "    U.append(temp_U.to_instruction(label=\"\\\\ket{1}\\\\textsubscript{\\\\textit{L}}\"),qubits)\n",
    "\n",
    "def S0(U,ancillas,qubits):\n",
    "    U.cz(ancillas[3],qubits[0])\n",
    "    U.cx(ancillas[3],qubits[1])\n",
    "    U.cx(ancillas[3],qubits[2])\n",
    "    U.cz(ancillas[3],qubits[3])\n",
    "\n",
    "def S1(U,ancillas,qubits):\n",
    "    U.cx(ancillas[2],qubits[0])\n",
    "    U.cx(ancillas[2],qubits[1])\n",
    "    U.cz(ancillas[2],qubits[2])\n",
    "    U.cz(ancillas[2],qubits[4])\n",
    "\n",
    "def S2(U,ancillas,qubits):\n",
    "    U.cx(ancillas[1],qubits[0])\n",
    "    U.cz(ancillas[1],qubits[1])\n",
    "    U.cz(ancillas[1],qubits[3])\n",
    "    U.cx(ancillas[1],qubits[4])\n",
    "\n",
    "def S3(U,ancillas,qubits):\n",
    "    U.cz(ancillas[0],qubits[0])\n",
    "    U.cz(ancillas[0],qubits[2])\n",
    "    U.cx(ancillas[0],qubits[3])\n",
    "    U.cx(ancillas[0],qubits[4])\n",
    "\n",
    "def iterate_single_qubit_errors():\n",
    "    \"\"\"\n",
    "    The expected output should be:                        \n",
    "    Single qubit error  Syndrome\n",
    "    X[0]                   1001\n",
    "    X[1]                   0010\n",
    "    X[2]                   0101\n",
    "    X[3]                   1010\n",
    "    X[4]                   0100\n",
    "    Z[0]                   0110\n",
    "    Z[1]                   1100\n",
    "    Z[2]                   1000\n",
    "    Z[3]                   0001\n",
    "    Z[4]                   0011\n",
    "    Y[0]                   1111\n",
    "    Y[1]                   1110\n",
    "    Y[2]                   1101\n",
    "    Y[3]                   1011\n",
    "    Y[4]                   0111\n",
    "    \"\"\"\n",
    "    backend = Aer.get_backend('qasm_simulator')\n",
    "    df_index = [f'X[{j}]' for j in range(5)] + [f'Z[{j}]' for j in range(5)] + [f'Y[{j}]' for j in range(5)]\n",
    "    df_columns = ['Syndrome']\n",
    "\n",
    "    syndromes = []\n",
    "\n",
    "    n_ancillas = 4\n",
    "    n_qubits = 5\n",
    "\n",
    "    ancillas = QuantumRegister(n_ancillas, name='a')\n",
    "    qubits = QuantumRegister(n_qubits, name='q')\n",
    "    creg = ClassicalRegister(n_ancillas)\n",
    "\n",
    "    for i in range(15):\n",
    "        U = QuantumCircuit(ancillas, qubits, creg)\n",
    "        ket_0(U,qubits)\n",
    "        U.barrier() \n",
    "        if 0<=i<=4:\n",
    "            U.x(qubits[i%5])\n",
    "        elif 5<=i<=9:\n",
    "            U.z(qubits[i%5])\n",
    "        else: \n",
    "            U.y(qubits[i%5])\n",
    "        U.barrier()\n",
    "        U.h(ancillas)\n",
    "        U.barrier()\n",
    "        S0(U,ancillas,qubits)\n",
    "        U.barrier()\n",
    "        S1(U,ancillas,qubits)\n",
    "        U.barrier()\n",
    "        S2(U,ancillas,qubits)\n",
    "        U.barrier()\n",
    "        S3(U,ancillas,qubits)\n",
    "        U.barrier()\n",
    "        U.h(ancillas)\n",
    "        U.barrier()\n",
    "        U.measure(ancillas,creg)\n",
    "        results = execute(U, backend, shots=128).result()\n",
    "        counts = results.get_counts()\n",
    "        assert len(counts) == 1 \n",
    "        syndromes.append( list( counts.keys() )[0] )\n",
    "    df = pd.DataFrame(syndromes, columns = df_columns, index = pd.Index(df_index,name='Single qubit error'))\n",
    "    return df\n",
    "\n",
    "df = iterate_single_qubit_errors()\n",
    "print(df)"
   ]
  },
  {
   "cell_type": "code",
   "execution_count": null,
   "id": "ef9bb524-be66-4dd9-bdbe-4b474a23fc1d",
   "metadata": {},
   "outputs": [],
   "source": []
  }
 ],
 "metadata": {
  "kernelspec": {
   "display_name": "Python 3 (ipykernel)",
   "language": "python",
   "name": "python3"
  },
  "language_info": {
   "codemirror_mode": {
    "name": "ipython",
    "version": 3
   },
   "file_extension": ".py",
   "mimetype": "text/x-python",
   "name": "python",
   "nbconvert_exporter": "python",
   "pygments_lexer": "ipython3",
   "version": "3.8.13"
  },
  "widgets": {
   "application/vnd.jupyter.widget-state+json": {
    "state": {
     "17b1d2e45c914b49affb05f3c94784fe": {
      "model_module": "@jupyter-widgets/controls",
      "model_module_version": "1.5.0",
      "model_name": "HBoxModel",
      "state": {
       "children": [
        "IPY_MODEL_e4286c327fab4ea0b7dfeaa376bd91fb",
        "IPY_MODEL_4dcede7a002445a8a12d18376f131982",
        "IPY_MODEL_2304e514012149e7a6973093e458af82",
        "IPY_MODEL_a0a051adff254d32bc49dce20c65c883",
        "IPY_MODEL_e487387afcee46ada43f2e1fdbce7a77"
       ],
       "layout": "IPY_MODEL_951877e4009b44728f2d478caab369f1"
      }
     },
     "2304e514012149e7a6973093e458af82": {
      "model_module": "@jupyter-widgets/controls",
      "model_module_version": "1.5.0",
      "model_name": "HTMLModel",
      "state": {
       "layout": "IPY_MODEL_428f1b0ea0744943a0e5463faa9a52eb",
       "style": "IPY_MODEL_6ef19822c3e347c39ab70290481e0967",
       "value": "<h5>Status</h5>"
      }
     },
     "24ff54d42c3d4960a2558649d18eace3": {
      "model_module": "@jupyter-widgets/controls",
      "model_module_version": "1.5.0",
      "model_name": "DescriptionStyleModel",
      "state": {
       "description_width": ""
      }
     },
     "428f1b0ea0744943a0e5463faa9a52eb": {
      "model_module": "@jupyter-widgets/base",
      "model_module_version": "1.2.0",
      "model_name": "LayoutModel",
      "state": {
       "width": "95px"
      }
     },
     "48016eb3bad04df9826dad1eb106bd62": {
      "model_module": "@jupyter-widgets/base",
      "model_module_version": "1.2.0",
      "model_name": "LayoutModel",
      "state": {
       "width": "145px"
      }
     },
     "4dcede7a002445a8a12d18376f131982": {
      "model_module": "@jupyter-widgets/controls",
      "model_module_version": "1.5.0",
      "model_name": "HTMLModel",
      "state": {
       "layout": "IPY_MODEL_48016eb3bad04df9826dad1eb106bd62",
       "style": "IPY_MODEL_99e3adaa144d4e439313c29c174c95b2",
       "value": "<h5>Backend</h5>"
      }
     },
     "6ef19822c3e347c39ab70290481e0967": {
      "model_module": "@jupyter-widgets/controls",
      "model_module_version": "1.5.0",
      "model_name": "DescriptionStyleModel",
      "state": {
       "description_width": ""
      }
     },
     "770a195e4a4346dc81834777bc4ae306": {
      "model_module": "@jupyter-widgets/base",
      "model_module_version": "1.2.0",
      "model_name": "LayoutModel",
      "state": {
       "width": "190px"
      }
     },
     "83e451665a2d4349b5e0559e8de8cdd8": {
      "model_module": "@jupyter-widgets/base",
      "model_module_version": "1.2.0",
      "model_name": "LayoutModel",
      "state": {
       "grid_template_areas": "\n                                       \". . . . right \"\n                                        ",
       "grid_template_columns": "20% 20% 20% 20% 20%",
       "width": "100%"
      }
     },
     "8c6b82f903184216a3a60747fbdb56df": {
      "model_module": "@jupyter-widgets/controls",
      "model_module_version": "1.5.0",
      "model_name": "GridBoxModel",
      "state": {
       "children": [
        "IPY_MODEL_dad4f35460a143718827ac24a258f890"
       ],
       "layout": "IPY_MODEL_83e451665a2d4349b5e0559e8de8cdd8"
      }
     },
     "8e076bae7bab4e55a10708e6f7c6a226": {
      "model_module": "@jupyter-widgets/controls",
      "model_module_version": "1.5.0",
      "model_name": "DescriptionStyleModel",
      "state": {
       "description_width": ""
      }
     },
     "951877e4009b44728f2d478caab369f1": {
      "model_module": "@jupyter-widgets/base",
      "model_module_version": "1.2.0",
      "model_name": "LayoutModel",
      "state": {
       "margin": "0px 0px 0px 37px",
       "width": "600px"
      }
     },
     "9849883bd1384fd68abdaf863a0c940b": {
      "model_module": "@jupyter-widgets/base",
      "model_module_version": "1.2.0",
      "model_name": "LayoutModel",
      "state": {
       "width": "70px"
      }
     },
     "99e3adaa144d4e439313c29c174c95b2": {
      "model_module": "@jupyter-widgets/controls",
      "model_module_version": "1.5.0",
      "model_name": "DescriptionStyleModel",
      "state": {
       "description_width": ""
      }
     },
     "a0a051adff254d32bc49dce20c65c883": {
      "model_module": "@jupyter-widgets/controls",
      "model_module_version": "1.5.0",
      "model_name": "HTMLModel",
      "state": {
       "layout": "IPY_MODEL_9849883bd1384fd68abdaf863a0c940b",
       "style": "IPY_MODEL_f7130cd016334c628bbca9f181f7a409",
       "value": "<h5>Queue</h5>"
      }
     },
     "a853e8649dec487a9e4610068ddf0c1b": {
      "model_module": "@jupyter-widgets/base",
      "model_module_version": "1.2.0",
      "model_name": "LayoutModel",
      "state": {}
     },
     "b9dfddd116ef4b3b9459c64da1f2c849": {
      "model_module": "@jupyter-widgets/controls",
      "model_module_version": "1.5.0",
      "model_name": "DescriptionStyleModel",
      "state": {
       "description_width": ""
      }
     },
     "c3e63aa4a8eb4330aeb41379193946a1": {
      "model_module": "@jupyter-widgets/base",
      "model_module_version": "1.2.0",
      "model_name": "LayoutModel",
      "state": {
       "margin": "0px 0px 10px 0px"
      }
     },
     "dad4f35460a143718827ac24a258f890": {
      "model_module": "@jupyter-widgets/controls",
      "model_module_version": "1.5.0",
      "model_name": "ButtonModel",
      "state": {
       "button_style": "primary",
       "description": "Clear",
       "layout": "IPY_MODEL_eeb6521ea47a4875bf2af7cdca876a01",
       "style": "IPY_MODEL_f7b76bc404c14dca96956022e09b0ee6"
      }
     },
     "e241111735c24c5d9d5fed39080f5987": {
      "model_module": "@jupyter-widgets/controls",
      "model_module_version": "1.5.0",
      "model_name": "HTMLModel",
      "state": {
       "layout": "IPY_MODEL_c3e63aa4a8eb4330aeb41379193946a1",
       "style": "IPY_MODEL_8e076bae7bab4e55a10708e6f7c6a226",
       "value": "<p style='font-family: IBM Plex Sans, Arial, Helvetica, sans-serif; font-size: 20px; font-weight: medium;'>Circuit Properties</p>"
      }
     },
     "e4286c327fab4ea0b7dfeaa376bd91fb": {
      "model_module": "@jupyter-widgets/controls",
      "model_module_version": "1.5.0",
      "model_name": "HTMLModel",
      "state": {
       "layout": "IPY_MODEL_770a195e4a4346dc81834777bc4ae306",
       "style": "IPY_MODEL_b9dfddd116ef4b3b9459c64da1f2c849",
       "value": "<h5>Job ID</h5>"
      }
     },
     "e487387afcee46ada43f2e1fdbce7a77": {
      "model_module": "@jupyter-widgets/controls",
      "model_module_version": "1.5.0",
      "model_name": "HTMLModel",
      "state": {
       "layout": "IPY_MODEL_a853e8649dec487a9e4610068ddf0c1b",
       "style": "IPY_MODEL_24ff54d42c3d4960a2558649d18eace3",
       "value": "<h5>Message</h5>"
      }
     },
     "eeb6521ea47a4875bf2af7cdca876a01": {
      "model_module": "@jupyter-widgets/base",
      "model_module_version": "1.2.0",
      "model_name": "LayoutModel",
      "state": {
       "grid_area": "right",
       "padding": "0px 0px 0px 0px",
       "width": "70px"
      }
     },
     "f7130cd016334c628bbca9f181f7a409": {
      "model_module": "@jupyter-widgets/controls",
      "model_module_version": "1.5.0",
      "model_name": "DescriptionStyleModel",
      "state": {
       "description_width": ""
      }
     },
     "f7b76bc404c14dca96956022e09b0ee6": {
      "model_module": "@jupyter-widgets/controls",
      "model_module_version": "1.5.0",
      "model_name": "ButtonStyleModel",
      "state": {}
     }
    },
    "version_major": 2,
    "version_minor": 0
   }
  }
 },
 "nbformat": 4,
 "nbformat_minor": 5
}
