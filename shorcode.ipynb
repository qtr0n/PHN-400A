{
 "cells": [
  {
   "cell_type": "code",
   "execution_count": 2,
   "id": "8fca850e-2965-40a7-84a0-fd7ffc26d99a",
   "metadata": {},
   "outputs": [
    {
     "name": "stdout",
     "output_type": "stream",
     "text": [
      "Traceback \u001b[1;36m(most recent call last)\u001b[0m:\n",
      "\u001b[1;36m  File \u001b[1;32m/opt/conda/lib/python3.8/site-packages/IPython/core/compilerop.py:105\u001b[1;36m in \u001b[1;35mast_parse\u001b[1;36m\u001b[0m\n",
      "\u001b[1;33m    return compile(source, filename, symbol, self.flags | PyCF_ONLY_AST, 1)\u001b[0m\n",
      "\u001b[1;36m  Input \u001b[1;32mIn [2]\u001b[1;36m\u001b[0m\n",
      "\u001b[1;33m    IBMQ.enable_account(‘ENTER API KEY HERE')\u001b[0m\n",
      "\u001b[1;37m                             ^\u001b[0m\n",
      "\u001b[1;31mSyntaxError\u001b[0m\u001b[1;31m:\u001b[0m invalid character in identifier\n",
      "\n",
      "Use %tb to get the full traceback.\n"
     ]
    },
    {
     "data": {
      "text/html": [
       "\n",
       "<style>\n",
       ".button {\n",
       "  border: none;\n",
       "  color: white;\n",
       "  padding: 4px 8px;\n",
       "  text-align: center;\n",
       "  text-decoration: none;\n",
       "  display: inline-block;\n",
       "  font-size: 12px;\n",
       "  margin: 4px 2px;\n",
       "  transition-duration: 0.2s;\n",
       "  cursor: pointer;\n",
       "}\n",
       ".iqx-button {\n",
       "  background-color: #0f62fe; \n",
       "  color: white; \n",
       "}\n",
       ".iqx-button:hover {\n",
       "  background-color: #0043ce;\n",
       "  color: white;\n",
       "}\n",
       "</style>\n",
       "<a href=\"https://stackoverflow.com/search?q=SyntaxError: invalid character in identifier\" target='_blank'><button class='button iqx-button'>Search for solution online</button></a>\n"
      ],
      "text/plain": [
       "<IPython.core.display.HTML object>"
      ]
     },
     "metadata": {},
     "output_type": "display_data"
    }
   ],
   "source": [
    "#### 9-qubit Shor Code ####\n",
    "from qiskit import QuantumRegister\n",
    "from qiskit import ClassicalRegister\n",
    "from qiskit import QuantumCircuit, execute,IBMQ\n",
    "from qiskit.tools.monitor import job_monitor\n",
    "\n",
    "IBMQ.enable_account(‘ENTER API KEY HERE')\n",
    "provider = IBMQ.get_provider(hub='ibm-q')\n",
    "\n",
    "backend = provider.get_backend('ibmq_qasm_simulator')\n",
    "\n",
    "q = QuantumRegister(1,'q')\n",
    "c = ClassicalRegister(1,'c')\n",
    "\n",
    "circuit = QuantumCircuit(q,c)\n",
    "\n",
    "circuit.h(q[0])\n",
    "\n",
    "####error here############\n",
    "circuit.x(q[0])#Bit flip error\n",
    "circuit.z(q[0])#Phase flip error\n",
    "############################\n",
    "\n",
    "circuit.h(q[0])\n",
    "\n",
    "circuit.barrier(q)\n",
    "\n",
    "circuit.measure(q[0],c[0])\n",
    "\n",
    "job = execute(circuit, backend, shots=1000)\n",
    "\n",
    "job_monitor(job)\n",
    "\n",
    "counts = job.result().get_counts()\n",
    "\n",
    "print(\"\\n Uncorrected bit flip and phase error\")\n",
    "print(\"--------------------------------------\")\n",
    "print(counts)\n",
    "\n",
    "q = QuantumRegister(9,'q')\n",
    "c = ClassicalRegister(1,'c')\n",
    "\n",
    "circuit = QuantumCircuit(q,c)\n",
    "\n",
    "circuit.cx(q[0],q[3])\n",
    "circuit.cx(q[0],q[6])\n",
    "\n",
    "circuit.h(q[0])\n",
    "circuit.h(q[3])\n",
    "circuit.h(q[6])\n",
    "\n",
    "circuit.cx(q[0],q[1])\n",
    "circuit.cx(q[3],q[4])\n",
    "circuit.cx(q[6],q[7])\n",
    "\n",
    "circuit.cx(q[0],q[2])\n",
    "circuit.cx(q[3],q[5])\n",
    "circuit.cx(q[6],q[8])\n",
    "\n",
    "circuit.barrier(q)\n",
    "\n",
    "circuit.x(q[0])#Bit flip error\n",
    "circuit.z(q[0])#Phase flip error\n",
    "\n",
    "circuit.barrier(q)\n",
    "circuit.cx(q[0],q[1])\n",
    "circuit.cx(q[3],q[4])\n",
    "circuit.cx(q[6],q[7])\n",
    "\n",
    "circuit.cx(q[0],q[2])\n",
    "circuit.cx(q[3],q[5])\n",
    "circuit.cx(q[6],q[8])\n",
    "\n",
    "circuit.ccx(q[1],q[2],q[0])\n",
    "circuit.ccx(q[4],q[5],q[3])\n",
    "circuit.ccx(q[8],q[7],q[6])\n",
    "\n",
    "circuit.h(q[0])\n",
    "circuit.h(q[3])\n",
    "circuit.h(q[6])\n",
    "\n",
    "circuit.cx(q[0],q[3])\n",
    "circuit.cx(q[0],q[6])\n",
    "circuit.ccx(q[6],q[3],q[0])\n",
    "\n",
    "circuit.barrier(q)\n",
    "\n",
    "circuit.measure(q[0],c[0])\n",
    "\n",
    "circuit.draw(output='mpl',filename='shorcode.png') #Draws an image of the circuit\n",
    "\n",
    "job = execute(circuit, backend, shots=1000)\n",
    "\n",
    "job_monitor(job)\n",
    "\n",
    "counts = job.result().get_counts()\n",
    "\n",
    "print(\"\\nShor code with bit flip and phase error\")\n",
    "print(\"----------------------------------------\")\n",
    "print(counts)\n",
    "input()"
   ]
  },
  {
   "cell_type": "code",
   "execution_count": null,
   "id": "8a86dd84-5175-4604-aca0-39aebb9933b1",
   "metadata": {},
   "outputs": [],
   "source": []
  }
 ],
 "metadata": {
  "kernelspec": {
   "display_name": "Python 3 (ipykernel)",
   "language": "python",
   "name": "python3"
  },
  "language_info": {
   "codemirror_mode": {
    "name": "ipython",
    "version": 3
   },
   "file_extension": ".py",
   "mimetype": "text/x-python",
   "name": "python",
   "nbconvert_exporter": "python",
   "pygments_lexer": "ipython3",
   "version": "3.8.13"
  },
  "widgets": {
   "application/vnd.jupyter.widget-state+json": {
    "state": {
     "04ff9a44bd3141e095b566eefc16ca21": {
      "model_module": "@jupyter-widgets/controls",
      "model_module_version": "1.5.0",
      "model_name": "HTMLModel",
      "state": {
       "layout": "IPY_MODEL_ed84438ecd9846508f883959e782d6f3",
       "style": "IPY_MODEL_92dde6e087ee4141be07c706e4a9dd69",
       "value": "<p style='font-family: IBM Plex Sans, Arial, Helvetica, sans-serif; font-size: 20px; font-weight: medium;'>Circuit Properties</p>"
      }
     },
     "105485f1a3974378806031104a0efb2c": {
      "model_module": "@jupyter-widgets/base",
      "model_module_version": "1.2.0",
      "model_name": "LayoutModel",
      "state": {
       "grid_template_areas": "\n                                       \". . . . right \"\n                                        ",
       "grid_template_columns": "20% 20% 20% 20% 20%",
       "width": "100%"
      }
     },
     "11256b81ffaa46d4adbe2d0cb00fd40c": {
      "model_module": "@jupyter-widgets/base",
      "model_module_version": "1.2.0",
      "model_name": "LayoutModel",
      "state": {
       "margin": "0px 0px 0px 37px",
       "width": "600px"
      }
     },
     "1da56ef3284c42ad801388500af57521": {
      "model_module": "@jupyter-widgets/controls",
      "model_module_version": "1.5.0",
      "model_name": "DescriptionStyleModel",
      "state": {
       "description_width": ""
      }
     },
     "305187b6367b44618590f19eae8ffc99": {
      "model_module": "@jupyter-widgets/base",
      "model_module_version": "1.2.0",
      "model_name": "LayoutModel",
      "state": {
       "width": "145px"
      }
     },
     "3b26b34d6065451c9c09444657a1606b": {
      "model_module": "@jupyter-widgets/controls",
      "model_module_version": "1.5.0",
      "model_name": "DescriptionStyleModel",
      "state": {
       "description_width": ""
      }
     },
     "3f69bbf114b14a22bbc16a8900a0558c": {
      "model_module": "@jupyter-widgets/controls",
      "model_module_version": "1.5.0",
      "model_name": "DescriptionStyleModel",
      "state": {
       "description_width": ""
      }
     },
     "607631528b2d49b684684fda9f41eab0": {
      "model_module": "@jupyter-widgets/controls",
      "model_module_version": "1.5.0",
      "model_name": "ButtonStyleModel",
      "state": {}
     },
     "6424069c1b24403785bc949d53e8c7e9": {
      "model_module": "@jupyter-widgets/controls",
      "model_module_version": "1.5.0",
      "model_name": "HTMLModel",
      "state": {
       "layout": "IPY_MODEL_e711a4059af04a108093cd6f3f9fc49a",
       "style": "IPY_MODEL_3f69bbf114b14a22bbc16a8900a0558c",
       "value": "<h5>Message</h5>"
      }
     },
     "7afdd3524372447b8fdd0db0bf5d3dd0": {
      "model_module": "@jupyter-widgets/base",
      "model_module_version": "1.2.0",
      "model_name": "LayoutModel",
      "state": {
       "width": "95px"
      }
     },
     "8019178b6727452b944617574d825ff2": {
      "model_module": "@jupyter-widgets/controls",
      "model_module_version": "1.5.0",
      "model_name": "HTMLModel",
      "state": {
       "layout": "IPY_MODEL_7afdd3524372447b8fdd0db0bf5d3dd0",
       "style": "IPY_MODEL_87cced61ea5b4151892303108b74cf94",
       "value": "<h5>Status</h5>"
      }
     },
     "854088b0998f433b8841c50f0f6120da": {
      "model_module": "@jupyter-widgets/controls",
      "model_module_version": "1.5.0",
      "model_name": "DescriptionStyleModel",
      "state": {
       "description_width": ""
      }
     },
     "87cced61ea5b4151892303108b74cf94": {
      "model_module": "@jupyter-widgets/controls",
      "model_module_version": "1.5.0",
      "model_name": "DescriptionStyleModel",
      "state": {
       "description_width": ""
      }
     },
     "92dde6e087ee4141be07c706e4a9dd69": {
      "model_module": "@jupyter-widgets/controls",
      "model_module_version": "1.5.0",
      "model_name": "DescriptionStyleModel",
      "state": {
       "description_width": ""
      }
     },
     "a18c58db3a034f5aa39e8eb2baf1b403": {
      "model_module": "@jupyter-widgets/controls",
      "model_module_version": "1.5.0",
      "model_name": "HTMLModel",
      "state": {
       "layout": "IPY_MODEL_305187b6367b44618590f19eae8ffc99",
       "style": "IPY_MODEL_854088b0998f433b8841c50f0f6120da",
       "value": "<h5>Backend</h5>"
      }
     },
     "a9588fcacaf74b60b1558f5184da36e3": {
      "model_module": "@jupyter-widgets/base",
      "model_module_version": "1.2.0",
      "model_name": "LayoutModel",
      "state": {
       "width": "70px"
      }
     },
     "bb44994b544745e09aeb630f79fc317d": {
      "model_module": "@jupyter-widgets/controls",
      "model_module_version": "1.5.0",
      "model_name": "GridBoxModel",
      "state": {
       "children": [
        "IPY_MODEL_c79dbe75ef88427a8adefef65daa5c30"
       ],
       "layout": "IPY_MODEL_105485f1a3974378806031104a0efb2c"
      }
     },
     "c79dbe75ef88427a8adefef65daa5c30": {
      "model_module": "@jupyter-widgets/controls",
      "model_module_version": "1.5.0",
      "model_name": "ButtonModel",
      "state": {
       "button_style": "primary",
       "description": "Clear",
       "layout": "IPY_MODEL_dc9ef9b1159b494ba692d1dfd8cec694",
       "style": "IPY_MODEL_607631528b2d49b684684fda9f41eab0"
      }
     },
     "c81a3ea5b3b24c1b813c479664823c80": {
      "model_module": "@jupyter-widgets/controls",
      "model_module_version": "1.5.0",
      "model_name": "HTMLModel",
      "state": {
       "layout": "IPY_MODEL_a9588fcacaf74b60b1558f5184da36e3",
       "style": "IPY_MODEL_1da56ef3284c42ad801388500af57521",
       "value": "<h5>Queue</h5>"
      }
     },
     "dab26bac15bc4fe8985b25549b78289a": {
      "model_module": "@jupyter-widgets/controls",
      "model_module_version": "1.5.0",
      "model_name": "HTMLModel",
      "state": {
       "layout": "IPY_MODEL_f724852486284c218da8fbe318c697d1",
       "style": "IPY_MODEL_3b26b34d6065451c9c09444657a1606b",
       "value": "<h5>Job ID</h5>"
      }
     },
     "dc9ef9b1159b494ba692d1dfd8cec694": {
      "model_module": "@jupyter-widgets/base",
      "model_module_version": "1.2.0",
      "model_name": "LayoutModel",
      "state": {
       "grid_area": "right",
       "padding": "0px 0px 0px 0px",
       "width": "70px"
      }
     },
     "e711a4059af04a108093cd6f3f9fc49a": {
      "model_module": "@jupyter-widgets/base",
      "model_module_version": "1.2.0",
      "model_name": "LayoutModel",
      "state": {}
     },
     "ed84438ecd9846508f883959e782d6f3": {
      "model_module": "@jupyter-widgets/base",
      "model_module_version": "1.2.0",
      "model_name": "LayoutModel",
      "state": {
       "margin": "0px 0px 10px 0px"
      }
     },
     "ef7cf97bf71b40a7bf3a45e1ae67ecb7": {
      "model_module": "@jupyter-widgets/controls",
      "model_module_version": "1.5.0",
      "model_name": "HBoxModel",
      "state": {
       "children": [
        "IPY_MODEL_dab26bac15bc4fe8985b25549b78289a",
        "IPY_MODEL_a18c58db3a034f5aa39e8eb2baf1b403",
        "IPY_MODEL_8019178b6727452b944617574d825ff2",
        "IPY_MODEL_c81a3ea5b3b24c1b813c479664823c80",
        "IPY_MODEL_6424069c1b24403785bc949d53e8c7e9"
       ],
       "layout": "IPY_MODEL_11256b81ffaa46d4adbe2d0cb00fd40c"
      }
     },
     "f724852486284c218da8fbe318c697d1": {
      "model_module": "@jupyter-widgets/base",
      "model_module_version": "1.2.0",
      "model_name": "LayoutModel",
      "state": {
       "width": "190px"
      }
     }
    },
    "version_major": 2,
    "version_minor": 0
   }
  }
 },
 "nbformat": 4,
 "nbformat_minor": 5
}
